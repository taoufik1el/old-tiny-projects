{
 "cells": [
  {
   "cell_type": "markdown",
   "metadata": {},
   "source": [
    "# VAE"
   ]
  },
  {
   "cell_type": "code",
   "execution_count": 1,
   "metadata": {
    "execution": {
     "iopub.execute_input": "2022-01-19T15:05:42.679023Z",
     "iopub.status.busy": "2022-01-19T15:05:42.678755Z",
     "iopub.status.idle": "2022-01-19T15:05:43.928960Z",
     "shell.execute_reply": "2022-01-19T15:05:43.928097Z",
     "shell.execute_reply.started": "2022-01-19T15:05:42.678997Z"
    }
   },
   "outputs": [],
   "source": [
    "import torch\n",
    "import torch.nn as nn\n",
    "import torch.nn.functional as F"
   ]
  },
  {
   "cell_type": "code",
   "execution_count": 2,
   "metadata": {
    "execution": {
     "iopub.execute_input": "2022-01-19T15:05:45.920481Z",
     "iopub.status.busy": "2022-01-19T15:05:45.920117Z",
     "iopub.status.idle": "2022-01-19T15:05:45.924995Z",
     "shell.execute_reply": "2022-01-19T15:05:45.924015Z",
     "shell.execute_reply.started": "2022-01-19T15:05:45.920450Z"
    }
   },
   "outputs": [],
   "source": [
    "kernel_size = 3\n",
    "stride = 1\n",
    "padding = 1\n",
    "init_kernel = 2 # initial number of filters"
   ]
  },
  {
   "cell_type": "code",
   "execution_count": 3,
   "metadata": {
    "execution": {
     "iopub.execute_input": "2022-01-19T15:05:46.763342Z",
     "iopub.status.busy": "2022-01-19T15:05:46.763018Z",
     "iopub.status.idle": "2022-01-19T15:05:46.771977Z",
     "shell.execute_reply": "2022-01-19T15:05:46.771028Z",
     "shell.execute_reply.started": "2022-01-19T15:05:46.763311Z"
    }
   },
   "outputs": [],
   "source": [
    "def get_binary(X):\n",
    "    return torch.tensor((X>=0.5)*1,dtype=torch.float)"
   ]
  },
  {
   "cell_type": "code",
   "execution_count": 4,
   "metadata": {
    "execution": {
     "iopub.execute_input": "2022-01-19T15:05:47.665591Z",
     "iopub.status.busy": "2022-01-19T15:05:47.665262Z",
     "iopub.status.idle": "2022-01-19T15:05:47.685167Z",
     "shell.execute_reply": "2022-01-19T15:05:47.684176Z",
     "shell.execute_reply.started": "2022-01-19T15:05:47.665562Z"
    }
   },
   "outputs": [],
   "source": [
    "class ConvVAE(nn.Module):\n",
    "    def __init__(self) : \n",
    "        super(ConvVAE, self).__init__()\n",
    "\n",
    "        # ======= ENcoder MLP\n",
    "        self.enc_layer_1 = nn.Linear(28*28*8, 100)\n",
    "        self.enc_layer_2 = nn.Linear(100, 20*2)  # the covariance matrix is diagonal so we need \"dim_lat\" element for the the cov matrix and dim_lat for the mean of the normal ditribution\n",
    "        self.enc1 = nn.Conv2d(1, 2, kernel_size=3, stride=1, padding=1)\n",
    "        self.enc2 = nn.Conv2d(2, 4, kernel_size=3, stride=1, padding=1)\n",
    "        self.enc3 = nn.Conv2d(4, 8, kernel_size=3, stride=1, padding=1)\n",
    "\n",
    "\n",
    "        # ======= Decoder MLP\n",
    "        self.dec_layer_1 = nn.Linear(20, 100)\n",
    "        self.dec_layer_2 = nn.Linear(100, 8*22*22)\n",
    "        self.dec1 = nn.ConvTranspose2d(8,4, kernel_size=3, stride=1)\n",
    "        self.dec2 = nn.ConvTranspose2d(4,2, kernel_size=3, stride=1)\n",
    "        self.dec3 = nn.ConvTranspose2d(2,1, kernel_size=3, stride=1)\n",
    "        \n",
    "\n",
    "    # ===== Parametrization trick\n",
    "    def reparameterize(self, mu, log_var):\n",
    "        std = torch.exp(0.5*log_var) \n",
    "        eps = torch.randn_like(std) \n",
    "        sample = mu + (eps * std) \n",
    "        return sample\n",
    "    def encode(self,x):\n",
    "        output = torch.relu(self.enc1(x))\n",
    "        output = torch.relu(self.enc2(output))\n",
    "        output = torch.relu(self.enc3(output))\n",
    "        output=output.view(output.size(0), -1)\n",
    "        output= torch.relu(self.enc_layer_1(output))\n",
    "        output= self.enc_layer_2(output).view(-1, 2, 20)\n",
    "        # We seprate the lattent variable into 2 variable : the mean + cov matrix\n",
    "        mu = output[:, 0, :] \n",
    "        log_var = output[:, 1, :]\n",
    "\n",
    "        z = self.reparameterize(mu, log_var)\n",
    "        return z, mu, log_var\n",
    "    def decode(self,z):\n",
    "        image= torch.relu(self.dec_layer_1(z))\n",
    "        image= torch.relu(self.dec_layer_2(image)).view(z.size(0),-1,22,22)\n",
    "        image= torch.relu(self.dec1(image))\n",
    "        image= torch.relu(self.dec2(image))\n",
    "        return torch.sigmoid(self.dec3(image))\n",
    "    def forward(self, input) :\n",
    "        z,mu,log_var=self.encode(input)\n",
    "        image=self.decode(z)\n",
    "        return image, mu, log_var"
   ]
  },
  {
   "cell_type": "code",
   "execution_count": 5,
   "metadata": {
    "execution": {
     "iopub.execute_input": "2022-01-19T15:05:48.432545Z",
     "iopub.status.busy": "2022-01-19T15:05:48.432215Z",
     "iopub.status.idle": "2022-01-19T15:05:48.747677Z",
     "shell.execute_reply": "2022-01-19T15:05:48.746442Z",
     "shell.execute_reply.started": "2022-01-19T15:05:48.432514Z"
    }
   },
   "outputs": [],
   "source": [
    "from tqdm.auto import tqdm\n",
    "from torchvision import transforms, datasets\n",
    "from torchvision.datasets import MNIST\n",
    "from torchvision.utils import make_grid\n",
    "from torch.utils.data import DataLoader\n",
    "import matplotlib.pyplot as plt\n",
    "import numpy as np\n",
    "import torch.optim as optim\n",
    "import matplotlib.pyplot as plt\n",
    "device = torch.device('cuda' if torch.cuda.is_available() else 'cpu')\n",
    "import torch.nn.functional as F\n",
    "\n",
    "import scipy.io\n",
    "import torch\n",
    "import torch.optim as optim\n",
    "import torch.nn as nn\n",
    "from torch.utils.data import DataLoader, Dataset\n",
    "from tqdm import tqdm\n",
    "from torchvision.utils import save_image"
   ]
  },
  {
   "cell_type": "code",
   "execution_count": 6,
   "metadata": {
    "execution": {
     "iopub.execute_input": "2022-01-19T15:05:49.441336Z",
     "iopub.status.busy": "2022-01-19T15:05:49.440892Z",
     "iopub.status.idle": "2022-01-19T15:05:49.449015Z",
     "shell.execute_reply": "2022-01-19T15:05:49.448073Z",
     "shell.execute_reply.started": "2022-01-19T15:05:49.441296Z"
    }
   },
   "outputs": [],
   "source": [
    "batch_size = 400\n",
    "lr = 0.001\n",
    "device = torch.device('cuda' if torch.cuda.is_available() else 'cpu')"
   ]
  },
  {
   "cell_type": "code",
   "execution_count": 7,
   "metadata": {
    "execution": {
     "iopub.execute_input": "2022-01-19T15:05:50.340261Z",
     "iopub.status.busy": "2022-01-19T15:05:50.339868Z",
     "iopub.status.idle": "2022-01-19T15:05:51.666832Z",
     "shell.execute_reply": "2022-01-19T15:05:51.665912Z",
     "shell.execute_reply.started": "2022-01-19T15:05:50.340231Z"
    }
   },
   "outputs": [
    {
     "name": "stdout",
     "output_type": "stream",
     "text": [
      "Downloading http://yann.lecun.com/exdb/mnist/train-images-idx3-ubyte.gz to data/MNIST/raw/train-images-idx3-ubyte.gz\n"
     ]
    },
    {
     "data": {
      "application/vnd.jupyter.widget-view+json": {
       "model_id": "01b7c69e661a4776b5b53b1a5d37f02f",
       "version_major": 2,
       "version_minor": 0
      },
      "text/plain": [
       "HBox(children=(FloatProgress(value=1.0, bar_style='info', max=1.0), HTML(value='')))"
      ]
     },
     "metadata": {},
     "output_type": "display_data"
    },
    {
     "name": "stdout",
     "output_type": "stream",
     "text": [
      "Extracting data/MNIST/raw/train-images-idx3-ubyte.gz to data/MNIST/raw\n",
      "Downloading http://yann.lecun.com/exdb/mnist/train-labels-idx1-ubyte.gz to data/MNIST/raw/train-labels-idx1-ubyte.gz\n"
     ]
    },
    {
     "data": {
      "application/vnd.jupyter.widget-view+json": {
       "model_id": "81abc4e7d6a44698b4a0116461ec9d87",
       "version_major": 2,
       "version_minor": 0
      },
      "text/plain": [
       "HBox(children=(FloatProgress(value=1.0, bar_style='info', max=1.0), HTML(value='')))"
      ]
     },
     "metadata": {},
     "output_type": "display_data"
    },
    {
     "name": "stdout",
     "output_type": "stream",
     "text": [
      "Extracting data/MNIST/raw/train-labels-idx1-ubyte.gz to data/MNIST/raw\n",
      "Downloading http://yann.lecun.com/exdb/mnist/t10k-images-idx3-ubyte.gz to data/MNIST/raw/t10k-images-idx3-ubyte.gz\n"
     ]
    },
    {
     "data": {
      "application/vnd.jupyter.widget-view+json": {
       "model_id": "e8c2d17c4678430dab850d0b2053c0aa",
       "version_major": 2,
       "version_minor": 0
      },
      "text/plain": [
       "HBox(children=(FloatProgress(value=1.0, bar_style='info', max=1.0), HTML(value='')))"
      ]
     },
     "metadata": {},
     "output_type": "display_data"
    },
    {
     "name": "stdout",
     "output_type": "stream",
     "text": [
      "Extracting data/MNIST/raw/t10k-images-idx3-ubyte.gz to data/MNIST/raw\n",
      "Downloading http://yann.lecun.com/exdb/mnist/t10k-labels-idx1-ubyte.gz to data/MNIST/raw/t10k-labels-idx1-ubyte.gz\n"
     ]
    },
    {
     "data": {
      "application/vnd.jupyter.widget-view+json": {
       "model_id": "1065d4aaaa61441a9ad857480a813b88",
       "version_major": 2,
       "version_minor": 0
      },
      "text/plain": [
       "HBox(children=(FloatProgress(value=1.0, bar_style='info', max=1.0), HTML(value='')))"
      ]
     },
     "metadata": {},
     "output_type": "display_data"
    },
    {
     "name": "stdout",
     "output_type": "stream",
     "text": [
      "Extracting data/MNIST/raw/t10k-labels-idx1-ubyte.gz to data/MNIST/raw\n",
      "Processing...\n",
      "Done!\n"
     ]
    },
    {
     "name": "stderr",
     "output_type": "stream",
     "text": [
      "/opt/conda/lib/python3.7/site-packages/torchvision/datasets/mnist.py:480: UserWarning: The given NumPy array is not writeable, and PyTorch does not support non-writeable tensors. This means you can write to the underlying (supposedly non-writeable) NumPy array using the tensor. You may want to copy the array to protect its data or make it writeable before converting it to a tensor. This type of warning will be suppressed for the rest of this program. (Triggered internally at  /opt/conda/conda-bld/pytorch_1603729138878/work/torch/csrc/utils/tensor_numpy.cpp:141.)\n",
      "  return torch.from_numpy(parsed.astype(m[2], copy=False)).view(*s)\n"
     ]
    }
   ],
   "source": [
    "train_data = datasets.MNIST('data',train=True,download=True,transform=transforms.ToTensor(),target_transform=None)\n",
    "val_data=datasets.MNIST('data',train=False,download=True,transform=transforms.ToTensor(),target_transform=None)\n",
    "train_loader = DataLoader(train_data,shuffle=True,batch_size=batch_size)\n",
    "val_loader = DataLoader(val_data,shuffle=False,batch_size=batch_size)"
   ]
  },
  {
   "cell_type": "code",
   "execution_count": 8,
   "metadata": {
    "execution": {
     "iopub.execute_input": "2022-01-19T15:05:57.532032Z",
     "iopub.status.busy": "2022-01-19T15:05:57.531671Z",
     "iopub.status.idle": "2022-01-19T15:06:01.314837Z",
     "shell.execute_reply": "2022-01-19T15:06:01.313930Z",
     "shell.execute_reply.started": "2022-01-19T15:05:57.531998Z"
    }
   },
   "outputs": [
    {
     "name": "stdout",
     "output_type": "stream",
     "text": [
      "\n",
      "\n"
     ]
    }
   ],
   "source": [
    "model = ConvVAE().to(device)\n",
    "optimizer = optim.Adam(model.parameters(), lr=lr)\n",
    "criterion = nn.BCELoss(reduction='sum')"
   ]
  },
  {
   "cell_type": "markdown",
   "metadata": {},
   "source": [
    "#### Before training\n",
    "Here the threshold value is 0.4"
   ]
  },
  {
   "cell_type": "code",
   "execution_count": 9,
   "metadata": {
    "execution": {
     "iopub.execute_input": "2022-01-19T15:06:07.009708Z",
     "iopub.status.busy": "2022-01-19T15:06:07.009378Z",
     "iopub.status.idle": "2022-01-19T15:06:09.637934Z",
     "shell.execute_reply": "2022-01-19T15:06:09.637231Z",
     "shell.execute_reply.started": "2022-01-19T15:06:07.009676Z"
    }
   },
   "outputs": [
    {
     "data": {
      "image/png": "[encoded data removed]",
      "text/plain": [
       "<Figure size 1440x1440 with 64 Axes>"
      ]
     },
     "metadata": {
      "needs_background": "light"
     },
     "output_type": "display_data"
    }
   ],
   "source": [
    "cov = [[0 for k in range(20)] for i in range(20)]\n",
    "for i in range(20)  :\n",
    "  cov[i][i] = 1\n",
    "fig,axs = plt.subplots(8,8,figsize = (20,20))\n",
    "for i in range(64) :\n",
    "    rng = np.random.default_rng()\n",
    "    x = rng.multivariate_normal([0 for k in range(20)], cov)\n",
    "    x = np.reshape(x,(1,20))\n",
    "    latent = torch.tensor(x).float().to(device)\n",
    "    reconstruction = model.decode(latent)\n",
    "    A=np.array(torch.reshape(reconstruction, (28,28) ).detach().cpu())\n",
    "    axs[i//8][i%8].imshow((A>=0.4)*1,cmap='gray')\n",
    "    axs[i//8][i%8].axis('off')"
   ]
  },
  {
   "cell_type": "code",
   "execution_count": 10,
   "metadata": {
    "execution": {
     "iopub.execute_input": "2022-01-19T15:06:12.638583Z",
     "iopub.status.busy": "2022-01-19T15:06:12.638254Z",
     "iopub.status.idle": "2022-01-19T15:06:12.644649Z",
     "shell.execute_reply": "2022-01-19T15:06:12.642779Z",
     "shell.execute_reply.started": "2022-01-19T15:06:12.638551Z"
    }
   },
   "outputs": [],
   "source": [
    "def final_loss(bce_loss, mu, logvar):\n",
    "    BCE = bce_loss \n",
    "    KLD = -0.5 * torch.sum(1 + logvar - mu.pow(2) - logvar.exp())\n",
    "    return BCE + KLD"
   ]
  },
  {
   "cell_type": "code",
   "execution_count": 11,
   "metadata": {
    "execution": {
     "iopub.execute_input": "2022-01-19T15:06:12.944304Z",
     "iopub.status.busy": "2022-01-19T15:06:12.943854Z",
     "iopub.status.idle": "2022-01-19T15:06:12.954314Z",
     "shell.execute_reply": "2022-01-19T15:06:12.953234Z",
     "shell.execute_reply.started": "2022-01-19T15:06:12.944263Z"
    }
   },
   "outputs": [],
   "source": [
    "def fit(model, dataloader):\n",
    "    model.train()\n",
    "    running_loss = 0.0\n",
    "    for i, data in enumerate(dataloader):\n",
    "        data= data[0]\n",
    "        data = data.to(device)\n",
    "        data = get_binary(data)\n",
    "        optimizer.zero_grad()\n",
    "        reconstruction, mu, logvar = model(data)\n",
    "        bce_loss = criterion(reconstruction, data)\n",
    "        loss = final_loss(bce_loss, mu, logvar)\n",
    "        loss.backward()\n",
    "        running_loss += loss.item()\n",
    "        optimizer.step()\n",
    "    train_loss = running_loss/len(dataloader.dataset)\n",
    "    return train_loss"
   ]
  },
  {
   "cell_type": "code",
   "execution_count": 12,
   "metadata": {
    "execution": {
     "iopub.execute_input": "2022-01-19T15:06:14.527544Z",
     "iopub.status.busy": "2022-01-19T15:06:14.527216Z",
     "iopub.status.idle": "2022-01-19T15:06:14.538756Z",
     "shell.execute_reply": "2022-01-19T15:06:14.537901Z",
     "shell.execute_reply.started": "2022-01-19T15:06:14.527513Z"
    }
   },
   "outputs": [],
   "source": [
    "def validate(model, dataloader):\n",
    "    model.eval()\n",
    "    running_loss = 0.0\n",
    "    with torch.no_grad():\n",
    "        for i, data in enumerate(dataloader):\n",
    "            \n",
    "            data= data[0]\n",
    "            data = data.to(device)\n",
    "            data = get_binary(data)\n",
    "            reconstruction, mu, logvar = model(data)\n",
    "            bce_loss = criterion(reconstruction, data)\n",
    "            loss = final_loss(bce_loss, mu, logvar)\n",
    "            running_loss += loss.item()\n",
    "        \n",
    "            # save the last batch input and output of every epoch\n",
    "            if i == int(len(val_data)/dataloader.batch_size) - 1:\n",
    "                num_rows = 8\n",
    "                both = torch.cat((data[:8], \n",
    "                                  reconstruction[:8]))\n",
    "                #save_image(both.cpu(), f\"../outputs/output{epoch}.png\", nrow=num_rows)\n",
    "\n",
    "    val_loss = running_loss/len(dataloader.dataset)\n",
    "    return val_loss"
   ]
  },
  {
   "cell_type": "code",
   "execution_count": 13,
   "metadata": {
    "execution": {
     "iopub.execute_input": "2022-01-19T15:06:14.819583Z",
     "iopub.status.busy": "2022-01-19T15:06:14.819303Z",
     "iopub.status.idle": "2022-01-19T15:07:23.629669Z",
     "shell.execute_reply": "2022-01-19T15:07:23.628864Z",
     "shell.execute_reply.started": "2022-01-19T15:06:14.819556Z"
    }
   },
   "outputs": [
    {
     "name": "stdout",
     "output_type": "stream",
     "text": [
      "Epoch 1 of 10\n"
     ]
    },
    {
     "name": "stderr",
     "output_type": "stream",
     "text": [
      "/opt/conda/lib/python3.7/site-packages/ipykernel_launcher.py:2: UserWarning: To copy construct from a tensor, it is recommended to use sourceTensor.clone().detach() or sourceTensor.clone().detach().requires_grad_(True), rather than torch.tensor(sourceTensor).\n",
      "  \n"
     ]
    },
    {
     "name": "stdout",
     "output_type": "stream",
     "text": [
      "Train Loss: 337.4492\n",
      "Val Loss: 219.1236\n",
      "Epoch 2 of 10\n",
      "Train Loss: 196.7232\n",
      "Val Loss: 171.4476\n",
      "Epoch 3 of 10\n",
      "Train Loss: 152.6563\n",
      "Val Loss: 136.4090\n",
      "Epoch 4 of 10\n",
      "Train Loss: 127.8329\n",
      "Val Loss: 119.4017\n",
      "Epoch 5 of 10\n",
      "Train Loss: 116.9297\n",
      "Val Loss: 112.4702\n",
      "Epoch 6 of 10\n",
      "Train Loss: 111.4205\n",
      "Val Loss: 108.6645\n",
      "Epoch 7 of 10\n",
      "Train Loss: 107.8280\n",
      "Val Loss: 105.2792\n",
      "Epoch 8 of 10\n",
      "Train Loss: 104.9688\n",
      "Val Loss: 102.4487\n",
      "Epoch 9 of 10\n",
      "Train Loss: 102.0551\n",
      "Val Loss: 100.1593\n",
      "Epoch 10 of 10\n",
      "Train Loss: 99.7249\n",
      "Val Loss: 97.8898\n"
     ]
    }
   ],
   "source": [
    "train_loss = []\n",
    "val_loss = []\n",
    "epochs = 10\n",
    "for epoch in range(10):\n",
    "    print(f\"Epoch {epoch+1} of {epochs}\")\n",
    "    train_epoch_loss = fit(model, train_loader)\n",
    "    val_epoch_loss = validate(model, val_loader)\n",
    "    train_loss.append(train_epoch_loss)\n",
    "    val_loss.append(val_epoch_loss)\n",
    "    print(f\"Train Loss: {train_epoch_loss:.4f}\")\n",
    "    print(f\"Val Loss: {val_epoch_loss:.4f}\")"
   ]
  },
  {
   "cell_type": "markdown",
   "metadata": {},
   "source": [
    "#### After 10 epochs"
   ]
  },
  {
   "cell_type": "code",
   "execution_count": 14,
   "metadata": {
    "execution": {
     "iopub.execute_input": "2022-01-19T15:09:39.923436Z",
     "iopub.status.busy": "2022-01-19T15:09:39.923029Z",
     "iopub.status.idle": "2022-01-19T15:09:39.929144Z",
     "shell.execute_reply": "2022-01-19T15:09:39.928275Z",
     "shell.execute_reply.started": "2022-01-19T15:09:39.923404Z"
    }
   },
   "outputs": [],
   "source": [
    "cov = [[0 for k in range(20)] for i in range(20)]\n",
    "for i in range(20)  :\n",
    "  cov[i][i] = 1"
   ]
  },
  {
   "cell_type": "code",
   "execution_count": 15,
   "metadata": {
    "execution": {
     "iopub.execute_input": "2022-01-19T15:09:47.981048Z",
     "iopub.status.busy": "2022-01-19T15:09:47.980735Z",
     "iopub.status.idle": "2022-01-19T15:09:49.904825Z",
     "shell.execute_reply": "2022-01-19T15:09:49.903938Z",
     "shell.execute_reply.started": "2022-01-19T15:09:47.981018Z"
    }
   },
   "outputs": [
    {
     "data": {
      "image/png": "[encoded data removed]",
      "text/plain": [
       "<Figure size 1440x1440 with 64 Axes>"
      ]
     },
     "metadata": {
      "needs_background": "light"
     },
     "output_type": "display_data"
    }
   ],
   "source": [
    "fig,axs = plt.subplots(8,8,figsize = (20,20))\n",
    "for i in range(64) :\n",
    "    rng = np.random.default_rng()\n",
    "    x = rng.multivariate_normal([0 for k in range(20)], cov)\n",
    "    x = np.reshape(x,(1,20))\n",
    "    latent = torch.tensor(x).float().to(device)\n",
    "    reconstruction = model.decode(latent)\n",
    "    A=np.array(torch.reshape(reconstruction, (28,28) ).detach().cpu())\n",
    "    axs[i//8][i%8].imshow((A>=0.5)*1,cmap='gray')\n",
    "    axs[i//8][i%8].axis('off')"
   ]
  },
  {
   "cell_type": "markdown",
   "metadata": {},
   "source": [
    "#### After 80 epochs"
   ]
  },
  {
   "cell_type": "code",
   "execution_count": 16,
   "metadata": {
    "execution": {
     "iopub.execute_input": "2022-01-19T15:09:55.326631Z",
     "iopub.status.busy": "2022-01-19T15:09:55.326253Z",
     "iopub.status.idle": "2022-01-19T15:18:01.673914Z",
     "shell.execute_reply": "2022-01-19T15:18:01.672986Z",
     "shell.execute_reply.started": "2022-01-19T15:09:55.326600Z"
    }
   },
   "outputs": [
    {
     "name": "stdout",
     "output_type": "stream",
     "text": [
      "Epoch 1 of 10\n"
     ]
    },
    {
     "name": "stderr",
     "output_type": "stream",
     "text": [
      "/opt/conda/lib/python3.7/site-packages/ipykernel_launcher.py:2: UserWarning: To copy construct from a tensor, it is recommended to use sourceTensor.clone().detach() or sourceTensor.clone().detach().requires_grad_(True), rather than torch.tensor(sourceTensor).\n",
      "  \n"
     ]
    },
    {
     "name": "stdout",
     "output_type": "stream",
     "text": [
      "Train Loss: 97.9451\n",
      "Val Loss: 97.4385\n",
      "Epoch 2 of 10\n",
      "Train Loss: 96.5650\n",
      "Val Loss: 95.5835\n",
      "Epoch 3 of 10\n",
      "Train Loss: 95.5126\n",
      "Val Loss: 94.6993\n",
      "Epoch 4 of 10\n",
      "Train Loss: 94.5922\n",
      "Val Loss: 94.1450\n",
      "Epoch 5 of 10\n",
      "Train Loss: 93.8256\n",
      "Val Loss: 93.7374\n",
      "Epoch 6 of 10\n",
      "Train Loss: 93.0705\n",
      "Val Loss: 92.9218\n",
      "Epoch 7 of 10\n",
      "Train Loss: 92.5939\n",
      "Val Loss: 92.3630\n",
      "Epoch 8 of 10\n",
      "Train Loss: 92.0677\n",
      "Val Loss: 92.1289\n",
      "Epoch 9 of 10\n",
      "Train Loss: 91.6164\n",
      "Val Loss: 91.9748\n",
      "Epoch 10 of 10\n",
      "Train Loss: 91.1254\n",
      "Val Loss: 91.3861\n",
      "Epoch 11 of 10\n",
      "Train Loss: 90.8832\n",
      "Val Loss: 91.3940\n",
      "Epoch 12 of 10\n",
      "Train Loss: 90.4683\n",
      "Val Loss: 91.0614\n",
      "Epoch 13 of 10\n",
      "Train Loss: 90.0582\n",
      "Val Loss: 90.7359\n",
      "Epoch 14 of 10\n",
      "Train Loss: 89.8035\n",
      "Val Loss: 90.5026\n",
      "Epoch 15 of 10\n",
      "Train Loss: 89.5636\n",
      "Val Loss: 90.1627\n",
      "Epoch 16 of 10\n",
      "Train Loss: 89.2737\n",
      "Val Loss: 89.9033\n",
      "Epoch 17 of 10\n",
      "Train Loss: 89.0006\n",
      "Val Loss: 90.1412\n",
      "Epoch 18 of 10\n",
      "Train Loss: 88.7294\n",
      "Val Loss: 90.0223\n",
      "Epoch 19 of 10\n",
      "Train Loss: 88.6361\n",
      "Val Loss: 89.4680\n",
      "Epoch 20 of 10\n",
      "Train Loss: 88.3562\n",
      "Val Loss: 89.7341\n",
      "Epoch 21 of 10\n",
      "Train Loss: 88.1815\n",
      "Val Loss: 89.0592\n",
      "Epoch 22 of 10\n",
      "Train Loss: 87.8975\n",
      "Val Loss: 89.1869\n",
      "Epoch 23 of 10\n",
      "Train Loss: 87.7455\n",
      "Val Loss: 89.0463\n",
      "Epoch 24 of 10\n",
      "Train Loss: 87.5592\n",
      "Val Loss: 89.0753\n",
      "Epoch 25 of 10\n",
      "Train Loss: 87.5671\n",
      "Val Loss: 88.8050\n",
      "Epoch 26 of 10\n",
      "Train Loss: 87.2766\n",
      "Val Loss: 88.8593\n",
      "Epoch 27 of 10\n",
      "Train Loss: 87.1718\n",
      "Val Loss: 88.8361\n",
      "Epoch 28 of 10\n",
      "Train Loss: 87.0355\n",
      "Val Loss: 88.3132\n",
      "Epoch 29 of 10\n",
      "Train Loss: 86.8883\n",
      "Val Loss: 88.8528\n",
      "Epoch 30 of 10\n",
      "Train Loss: 86.7117\n",
      "Val Loss: 88.4211\n",
      "Epoch 31 of 10\n",
      "Train Loss: 86.6406\n",
      "Val Loss: 88.4201\n",
      "Epoch 32 of 10\n",
      "Train Loss: 86.4368\n",
      "Val Loss: 88.4160\n",
      "Epoch 33 of 10\n",
      "Train Loss: 86.3259\n",
      "Val Loss: 88.4566\n",
      "Epoch 34 of 10\n",
      "Train Loss: 86.2323\n",
      "Val Loss: 88.0475\n",
      "Epoch 35 of 10\n",
      "Train Loss: 86.1128\n",
      "Val Loss: 87.9919\n",
      "Epoch 36 of 10\n",
      "Train Loss: 86.0155\n",
      "Val Loss: 88.1570\n",
      "Epoch 37 of 10\n",
      "Train Loss: 85.9467\n",
      "Val Loss: 87.9632\n",
      "Epoch 38 of 10\n",
      "Train Loss: 85.7203\n",
      "Val Loss: 88.0156\n",
      "Epoch 39 of 10\n",
      "Train Loss: 85.7061\n",
      "Val Loss: 87.8488\n",
      "Epoch 40 of 10\n",
      "Train Loss: 85.6849\n",
      "Val Loss: 87.7889\n",
      "Epoch 41 of 10\n",
      "Train Loss: 85.5834\n",
      "Val Loss: 87.6150\n",
      "Epoch 42 of 10\n",
      "Train Loss: 85.4205\n",
      "Val Loss: 87.6266\n",
      "Epoch 43 of 10\n",
      "Train Loss: 85.3882\n",
      "Val Loss: 87.4878\n",
      "Epoch 44 of 10\n",
      "Train Loss: 85.2132\n",
      "Val Loss: 87.5005\n",
      "Epoch 45 of 10\n",
      "Train Loss: 85.1496\n",
      "Val Loss: 87.5564\n",
      "Epoch 46 of 10\n",
      "Train Loss: 85.1328\n",
      "Val Loss: 87.3433\n",
      "Epoch 47 of 10\n",
      "Train Loss: 85.0469\n",
      "Val Loss: 87.3441\n",
      "Epoch 48 of 10\n",
      "Train Loss: 84.8612\n",
      "Val Loss: 87.3200\n",
      "Epoch 49 of 10\n",
      "Train Loss: 84.8060\n",
      "Val Loss: 87.2389\n",
      "Epoch 50 of 10\n",
      "Train Loss: 84.7291\n",
      "Val Loss: 87.3582\n",
      "Epoch 51 of 10\n",
      "Train Loss: 84.6695\n",
      "Val Loss: 87.7319\n",
      "Epoch 52 of 10\n",
      "Train Loss: 84.6008\n",
      "Val Loss: 87.2297\n",
      "Epoch 53 of 10\n",
      "Train Loss: 84.5050\n",
      "Val Loss: 87.3871\n",
      "Epoch 54 of 10\n",
      "Train Loss: 84.4514\n",
      "Val Loss: 87.5261\n",
      "Epoch 55 of 10\n",
      "Train Loss: 84.3551\n",
      "Val Loss: 87.3805\n",
      "Epoch 56 of 10\n",
      "Train Loss: 84.3968\n",
      "Val Loss: 87.9663\n",
      "Epoch 57 of 10\n",
      "Train Loss: 84.3552\n",
      "Val Loss: 87.2213\n",
      "Epoch 58 of 10\n",
      "Train Loss: 84.1720\n",
      "Val Loss: 87.0365\n",
      "Epoch 59 of 10\n",
      "Train Loss: 84.1746\n",
      "Val Loss: 87.3747\n",
      "Epoch 60 of 10\n",
      "Train Loss: 84.0909\n",
      "Val Loss: 87.0706\n",
      "Epoch 61 of 10\n",
      "Train Loss: 83.9733\n",
      "Val Loss: 87.1096\n",
      "Epoch 62 of 10\n",
      "Train Loss: 83.9608\n",
      "Val Loss: 86.9193\n",
      "Epoch 63 of 10\n",
      "Train Loss: 83.8660\n",
      "Val Loss: 87.0405\n",
      "Epoch 64 of 10\n",
      "Train Loss: 83.7867\n",
      "Val Loss: 87.5175\n",
      "Epoch 65 of 10\n",
      "Train Loss: 83.8352\n",
      "Val Loss: 87.4780\n",
      "Epoch 66 of 10\n",
      "Train Loss: 83.6896\n",
      "Val Loss: 86.9147\n",
      "Epoch 67 of 10\n",
      "Train Loss: 83.6408\n",
      "Val Loss: 87.0601\n",
      "Epoch 68 of 10\n",
      "Train Loss: 83.6287\n",
      "Val Loss: 86.9151\n",
      "Epoch 69 of 10\n",
      "Train Loss: 83.5963\n",
      "Val Loss: 87.4560\n",
      "Epoch 70 of 10\n",
      "Train Loss: 83.5770\n",
      "Val Loss: 87.0734\n"
     ]
    }
   ],
   "source": [
    "train_loss = []\n",
    "val_loss = []\n",
    "for epoch in range(70):\n",
    "    print(f\"Epoch {epoch+1} of {epochs}\")\n",
    "    train_epoch_loss = fit(model, train_loader)\n",
    "    val_epoch_loss = validate(model, val_loader)\n",
    "    train_loss.append(train_epoch_loss)\n",
    "    val_loss.append(val_epoch_loss)\n",
    "    print(f\"Train Loss: {train_epoch_loss:.4f}\")\n",
    "    print(f\"Val Loss: {val_epoch_loss:.4f}\")"
   ]
  },
  {
   "cell_type": "code",
   "execution_count": 17,
   "metadata": {
    "execution": {
     "iopub.execute_input": "2022-01-19T15:18:01.676405Z",
     "iopub.status.busy": "2022-01-19T15:18:01.675797Z",
     "iopub.status.idle": "2022-01-19T15:18:01.681715Z",
     "shell.execute_reply": "2022-01-19T15:18:01.681043Z",
     "shell.execute_reply.started": "2022-01-19T15:18:01.676363Z"
    }
   },
   "outputs": [],
   "source": [
    "cov = [[0 for k in range(20)] for i in range(20)]\n",
    "for i in range(20)  :\n",
    "  cov[i][i] = 1"
   ]
  },
  {
   "cell_type": "code",
   "execution_count": 18,
   "metadata": {
    "execution": {
     "iopub.execute_input": "2022-01-19T15:18:01.683568Z",
     "iopub.status.busy": "2022-01-19T15:18:01.683178Z",
     "iopub.status.idle": "2022-01-19T15:18:03.569810Z",
     "shell.execute_reply": "2022-01-19T15:18:03.569083Z",
     "shell.execute_reply.started": "2022-01-19T15:18:01.683531Z"
    }
   },
   "outputs": [
    {
     "data": {
      "image/png": "[encoded data removed]",
      "text/plain": [
       "<Figure size 1440x1440 with 64 Axes>"
      ]
     },
     "metadata": {
      "needs_background": "light"
     },
     "output_type": "display_data"
    }
   ],
   "source": [
    "fig,axs = plt.subplots(8,8,figsize = (20,20))\n",
    "for i in range(64) :\n",
    "    rng = np.random.default_rng()\n",
    "    x = rng.multivariate_normal([0 for k in range(20)], cov)\n",
    "    x = np.reshape(x,(1,20))\n",
    "    latent = torch.tensor(x).float().to(device)\n",
    "    reconstruction = model.decode(latent)\n",
    "    A=np.array(torch.reshape(reconstruction, (28,28) ).detach().cpu())\n",
    "    axs[i//8][i%8].imshow((A>=0.5)*1,cmap='gray')\n",
    "    axs[i//8][i%8].axis('off')"
   ]
  },
  {
   "cell_type": "markdown",
   "metadata": {},
   "source": [
    "# Variational Auto Encoders"
   ]
  }
 ],
 "metadata": {
  "kernelspec": {
   "display_name": "Python 3 (ipykernel)",
   "language": "python",
   "name": "python3"
  },
  "language_info": {
   "codemirror_mode": {
    "name": "ipython",
    "version": 3
   },
   "file_extension": ".py",
   "mimetype": "text/x-python",
   "name": "python",
   "nbconvert_exporter": "python",
   "pygments_lexer": "ipython3",
   "version": "3.9.7"
  }
 },
 "nbformat": 4,
 "nbformat_minor": 4
}
